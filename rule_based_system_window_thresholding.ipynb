{
 "cells": [
  {
   "cell_type": "code",
   "execution_count": 16,
   "id": "ed16bee0",
   "metadata": {},
   "outputs": [
    {
     "name": "stderr",
     "output_type": "stream",
     "text": [
      "/var/folders/25/kzsc3_ld7kq19q4l0dzq7mvr0000gn/T/ipykernel_53344/2197756190.py:52: FutureWarning: Setting an item of incompatible dtype is deprecated and will raise in a future error of pandas. Value 'anxious' has dtype incompatible with float64, please explicitly cast to a compatible dtype first.\n",
      "  df.at[index, 'Best Match'] = best_match\n"
     ]
    },
    {
     "name": "stdout",
     "output_type": "stream",
     "text": [
      "Output saved to Excel file: UNLABELED_RESULT.xlsx\n"
     ]
    }
   ],
   "source": [
    "import pandas as pd\n",
    "import Levenshtein\n",
    "import nltk\n",
    "import itertools\n",
    "\n",
    "def run_sliding_window_through_text(words, window_size):\n",
    "    \"\"\"\n",
    "    Generate a window sliding through a sequence of words\n",
    "    \"\"\"\n",
    "    word_iterator = iter(words)\n",
    "    word_window = tuple(itertools.islice(word_iterator, window_size))\n",
    "    yield word_window\n",
    "    for w in word_iterator:\n",
    "        word_window = word_window[1:] + (w,)\n",
    "        yield word_window\n",
    "\n",
    "def match_dict_similarity(text, expressions):\n",
    "    threshold = 0.75\n",
    "    max_similarity_obtained = -1\n",
    "    best_match = ''\n",
    "    for exp in expressions:\n",
    "        size_of_window = len(exp.split())\n",
    "        tokenized_text = list(nltk.word_tokenize(text))\n",
    "        for window in run_sliding_window_through_text(tokenized_text, size_of_window):\n",
    "            window_string = ' '.join(window)\n",
    "            similarity_score = Levenshtein.ratio(window_string, exp)\n",
    "\n",
    "            if similarity_score >= threshold:\n",
    "                if similarity_score > max_similarity_obtained:\n",
    "                    max_similarity_obtained = similarity_score\n",
    "                    best_match = window_string\n",
    "    return best_match, max_similarity_obtained\n",
    "\n",
    "# Load the expressions from the lexicon file\n",
    "lexicon_file_path = 'COVID-Twitter-Symptom-Lexicon.txt'\n",
    "expressions = []\n",
    "with open(lexicon_file_path) as infile:\n",
    "    for line in infile:\n",
    "        items = line.strip().split('\\t')\n",
    "        if len(items) > 1:\n",
    "            expressions.append(str.strip(items[-1]))\n",
    "\n",
    "# Load the Excel sheet\n",
    "excel_file_path = 'UnlabeledSet (2).xlsx'\n",
    "df = pd.read_excel(excel_file_path)\n",
    "\n",
    "# Iterate through each row and perform matching\n",
    "for index, row in df.iterrows():\n",
    "    text = str(row['TEXT'])  # Assuming 'TEXT' is the column name\n",
    "    if pd.notna(text) and text.strip() != '':\n",
    "        best_match, max_similarity = match_dict_similarity(text, expressions)\n",
    "        df.at[index, 'Best Match'] = best_match\n",
    "        df.at[index, 'Max Similarity'] = max_similarity\n",
    "\n",
    "# Save the modified DataFrame to a new Excel file\n",
    "output_excel_path = 'UNLABELED_RESULT.xlsx'\n",
    "df.to_excel(output_excel_path, index=False)\n",
    "print('Output saved to Excel file:', output_excel_path)\n"
   ]
  },
  {
   "cell_type": "code",
   "execution_count": null,
   "id": "ae0e9ac6",
   "metadata": {},
   "outputs": [],
   "source": []
  }
 ],
 "metadata": {
  "kernelspec": {
   "display_name": "Python 3 (ipykernel)",
   "language": "python",
   "name": "python3"
  },
  "language_info": {
   "codemirror_mode": {
    "name": "ipython",
    "version": 3
   },
   "file_extension": ".py",
   "mimetype": "text/x-python",
   "name": "python",
   "nbconvert_exporter": "python",
   "pygments_lexer": "ipython3",
   "version": "3.11.4"
  }
 },
 "nbformat": 4,
 "nbformat_minor": 5
}
